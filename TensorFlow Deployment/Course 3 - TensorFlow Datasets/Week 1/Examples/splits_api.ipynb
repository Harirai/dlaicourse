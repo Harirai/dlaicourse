{
  "nbformat": 4,
  "nbformat_minor": 0,
  "metadata": {
    "accelerator": "GPU",
    "colab": {
      "name": "legacy_and_s3_api.ipynb",
      "provenance": [],
      "toc_visible": true,
      "include_colab_link": true
    },
    "kernelspec": {
      "display_name": "Python 3",
      "language": "python",
      "name": "python3"
    },
    "language_info": {
      "codemirror_mode": {
        "name": "ipython",
        "version": 3
      },
      "file_extension": ".py",
      "mimetype": "text/x-python",
      "name": "python",
      "nbconvert_exporter": "python",
      "pygments_lexer": "ipython3",
      "version": "3.7.4"
    }
  },
  "cells": [
    {
      "cell_type": "markdown",
      "metadata": {
        "id": "view-in-github",
        "colab_type": "text"
      },
      "source": [
        "<a href=\"https://colab.research.google.com/github/lmoroney/dlaicourse/blob/master/TensorFlow%20Deployment/Course%203%20-%20TensorFlow%20Datasets/Week%201/Examples/splits_api.ipynb\" target=\"_parent\"><img src=\"https://colab.research.google.com/assets/colab-badge.svg\" alt=\"Open In Colab\"/></a>"
      ]
    },
    {
      "cell_type": "code",
      "metadata": {
        "id": "zX4Kg8DUTKWO",
        "colab_type": "code",
        "colab": {}
      },
      "source": [
        "#@title Licensed under the Apache License, Version 2.0 (the \"License\");\n",
        "# you may not use this file except in compliance with the License.\n",
        "# You may obtain a copy of the License at\n",
        "#\n",
        "# https://www.apache.org/licenses/LICENSE-2.0\n",
        "#\n",
        "# Unless required by applicable law or agreed to in writing, software\n",
        "# distributed under the License is distributed on an \"AS IS\" BASIS,\n",
        "# WITHOUT WARRANTIES OR CONDITIONS OF ANY KIND, either express or implied.\n",
        "# See the License for the specific language governing permissions and\n",
        "# limitations under the License."
      ],
      "execution_count": 0,
      "outputs": []
    },
    {
      "cell_type": "markdown",
      "metadata": {
        "id": "iRh3kEO0Lm3r",
        "colab_type": "text"
      },
      "source": [
        "# Legacy and S3 APIs"
      ]
    },
    {
      "cell_type": "markdown",
      "metadata": {
        "id": "TZulJKitLm3r",
        "colab_type": "text"
      },
      "source": [
        "<table class=\"tfo-notebook-buttons\" align=\"left\">\n",
        "  <td>\n",
        "    <a target=\"_blank\" href=\"https://colab.research.google.com/github/lmoroney/dlaicourse/blob/master/TensorFlow%20Deployment/Course%203%20-%20TensorFlow%20Datasets/Week%201/Examples/legacy_and_s3_api.ipynb\">\n",
        "    <img src=\"https://www.tensorflow.org/images/colab_logo_32px.png\" />\n",
        "    Run in Google Colab</a>\n",
        "  </td>\n",
        "  <td>\n",
        "    <a target=\"_blank\" href=\"https://github.com/lmoroney/dlaicourse/blob/master/TensorFlow%20Deployment/Course%203%20-%20TensorFlow%20Datasets/Week%201/Examples/legacy_and_s3_api.ipynb\">\n",
        "    <img src=\"https://www.tensorflow.org/images/GitHub-Mark-32px.png\" />\n",
        "    View source on GitHub</a>\n",
        "  </td>\n",
        "</table>"
      ]
    },
    {
      "cell_type": "markdown",
      "metadata": {
        "id": "Jsc2DqIqLm3s",
        "colab_type": "text"
      },
      "source": [
        "In this notebook, we'll take a look at the Legacy and S3 APIs for TensorFlow datasets. We'll explore both the Legacy API which is object-based and the new API which was nicknamed S3 for Split, Slices, and Strings. The new S3 API will eventually become the default API for TensorFlow Datasets."
      ]
    },
    {
      "cell_type": "markdown",
      "metadata": {
        "id": "P0xBoW5GLm3s",
        "colab_type": "text"
      },
      "source": [
        "## Setup\n",
        "\n",
        "We'll start by importing TensorFlow and TensorFlow Datasets."
      ]
    },
    {
      "cell_type": "code",
      "metadata": {
        "id": "DfImk0IILm3t",
        "colab_type": "code",
        "colab": {}
      },
      "source": [
        "try:\n",
        "    %tensorflow_version 2.x\n",
        "except:\n",
        "    pass"
      ],
      "execution_count": 0,
      "outputs": []
    },
    {
      "cell_type": "code",
      "metadata": {
        "colab_type": "code",
        "id": "TTBSvHcSLBzc",
        "colab": {}
      },
      "source": [
        "import tensorflow as tf\n",
        "import tensorflow_datasets as tfds\n",
        "\n",
        "print(\"\\u2022 Using TensorFlow Version:\", tf.__version__)"
      ],
      "execution_count": 0,
      "outputs": []
    },
    {
      "cell_type": "markdown",
      "metadata": {
        "colab_type": "text",
        "id": "lxegkF_n4io6"
      },
      "source": [
        "## Merging Splits with the Legacy API\n",
        "\n",
        "In the Legacy API, you can merge splits together by adding them together, as shown below:"
      ]
    },
    {
      "cell_type": "code",
      "metadata": {
        "colab_type": "code",
        "id": "Cb7Qnd0b4c6F",
        "colab": {}
      },
      "source": [
        "all_splits = tfds.Split.TRAIN + tfds.Split.TEST\n",
        "\n",
        "ds = tfds.load(\"mnist\", split=all_splits)\n",
        "\n",
        "print(\"Number of Records: {:,}\".format(len(list(ds))))"
      ],
      "execution_count": 0,
      "outputs": []
    },
    {
      "cell_type": "markdown",
      "metadata": {
        "colab_type": "text",
        "id": "ctqDE_Z95BFq"
      },
      "source": [
        "## Subsplitting with the Legacy API\n",
        "\n",
        "With the Legacy API, we can use the `subsplit` method to divide the datasets. In the example below, we divide the training set into four splits by specifying the number of subsplits, with the argument `k=4`."
      ]
    },
    {
      "cell_type": "code",
      "metadata": {
        "colab_type": "code",
        "id": "Y3XwKrmF4qCb",
        "colab": {}
      },
      "source": [
        "s1, s2, s3, s4 = tfds.Split.TRAIN.subsplit(k=4)\n",
        "\n",
        "dataset_split_1 = tfds.load(\"mnist\", split=s1)\n",
        "dataset_split_2 = tfds.load(\"mnist\", split=s2)\n",
        "dataset_split_3 = tfds.load(\"mnist\", split=s3)\n",
        "dataset_split_4 = tfds.load(\"mnist\", split=s4)\n",
        "\n",
        "print(len(list(dataset_split_1)))\n",
        "print(len(list(dataset_split_2)))\n",
        "print(len(list(dataset_split_3)))\n",
        "print(len(list(dataset_split_4)))"
      ],
      "execution_count": 0,
      "outputs": []
    },
    {
      "cell_type": "markdown",
      "metadata": {
        "id": "ymfLzsiuLm34",
        "colab_type": "text"
      },
      "source": [
        "We can also perform the same operation, by specifying a percentage slice in the `subsplit` method instead. In the example below, we divide the training set into four splits by specifying a percentage slice, with `tfds.percent`."
      ]
    },
    {
      "cell_type": "code",
      "metadata": {
        "colab_type": "code",
        "id": "cHeH3eHB5GNZ",
        "colab": {}
      },
      "source": [
        "s1 = tfds.Split.TRAIN.subsplit(tfds.percent[0:25])\n",
        "s2 = tfds.Split.TRAIN.subsplit(tfds.percent[25:50])\n",
        "s3 = tfds.Split.TRAIN.subsplit(tfds.percent[50:75])\n",
        "s4 = tfds.Split.TRAIN.subsplit(tfds.percent[75:100])\n",
        "\n",
        "dataset_split_1 = tfds.load(\"mnist\", split=s1)\n",
        "dataset_split_2 = tfds.load(\"mnist\", split=s2)\n",
        "dataset_split_3 = tfds.load(\"mnist\", split=s3)\n",
        "dataset_split_4 = tfds.load(\"mnist\", split=s4)\n",
        "\n",
        "print(len(list(dataset_split_1)))\n",
        "print(len(list(dataset_split_2)))\n",
        "print(len(list(dataset_split_3)))\n",
        "print(len(list(dataset_split_4)))"
      ],
      "execution_count": 0,
      "outputs": []
    },
    {
      "cell_type": "markdown",
      "metadata": {
        "colab_type": "text",
        "id": "S93fmGKktOMm"
      },
      "source": [
        "## Using the New S3 API\n",
        "\n",
        "Before using the new S3 API, we must first find out whether the MNIST dataset implements the new S3 API. In the cell below we indicate that we want to use version `3.*.*` of the MNIST dataset."
      ]
    },
    {
      "cell_type": "code",
      "metadata": {
        "colab_type": "code",
        "id": "4Smp4lYItSSi",
        "colab": {}
      },
      "source": [
        "mnist_builder = tfds.builder(\"mnist:3.*.*\")\n",
        "\n",
        "print(mnist_builder.version.implements(tfds.core.Experiment.S3))"
      ],
      "execution_count": 0,
      "outputs": []
    },
    {
      "cell_type": "markdown",
      "metadata": {
        "id": "TsWvyemRLm39",
        "colab_type": "text"
      },
      "source": [
        "We can see that the code above printed `True`, which means that version `3.*.*` of the MNIST dataset supports the new S3 API.\n",
        "\n",
        "Now, let's see how we can use the S3 API to download the MNIST dataset and specify the splits we want use. In the code below we download the `train` and `test` splits of the MNIST dataset and then we print their size. We will see that there are 60,000 records in the training set and 10,000 in the test set."
      ]
    },
    {
      "cell_type": "code",
      "metadata": {
        "colab_type": "code",
        "id": "fWDJcqHmtpwM",
        "colab": {}
      },
      "source": [
        "train_ds, test_ds = tfds.load('mnist:3.*.*', split=['train', 'test'])\n",
        "\n",
        "print(len(list(train_ds)))\n",
        "print(len(list(test_ds)))"
      ],
      "execution_count": 0,
      "outputs": []
    },
    {
      "cell_type": "markdown",
      "metadata": {
        "id": "dx9IEFBmLm4A",
        "colab_type": "text"
      },
      "source": [
        "In the S3 API we can use strings to specify the slicing instructions. For example, in the cell below we will merge the training and test sets by passing the string `’train+test'` to the `split` argument."
      ]
    },
    {
      "cell_type": "code",
      "metadata": {
        "colab_type": "code",
        "id": "4cvBpzUCuVBT",
        "colab": {}
      },
      "source": [
        "combined = tfds.load('mnist:3.*.*', split='train+test')\n",
        "\n",
        "print(len(list(combined)))"
      ],
      "execution_count": 0,
      "outputs": []
    },
    {
      "cell_type": "markdown",
      "metadata": {
        "id": "WVrfSZXnLm4C",
        "colab_type": "text"
      },
      "source": [
        "We can also use Python style list slicers to specify the data we want. For example, we can specify that we want to take the first 10,000 records of the `train` split with the string `'train[:10000]'`, as shown below:"
      ]
    },
    {
      "cell_type": "code",
      "metadata": {
        "colab_type": "code",
        "id": "MUUGRKh9uxkG",
        "colab": {}
      },
      "source": [
        "first10k = tfds.load('mnist:3.*.*', split='train[:10000]')\n",
        "\n",
        "print(len(list(first10k)))"
      ],
      "execution_count": 0,
      "outputs": []
    },
    {
      "cell_type": "markdown",
      "metadata": {
        "id": "o__wKe-ILm4E",
        "colab_type": "text"
      },
      "source": [
        "The S3 API, also allows us to specify the percentage of the data we want to use. For example, we can select the first 20\\% of the training set with the string `'train[:20%]'`, as shown below:"
      ]
    },
    {
      "cell_type": "code",
      "metadata": {
        "colab_type": "code",
        "id": "R41Psxi9vn4E",
        "colab": {}
      },
      "source": [
        "first20p = tfds.load('mnist:3.*.*', split='train[:20%]')\n",
        "\n",
        "print(len(list(first20p)))"
      ],
      "execution_count": 0,
      "outputs": []
    },
    {
      "cell_type": "markdown",
      "metadata": {
        "id": "5rwmWbT7Lm4G",
        "colab_type": "text"
      },
      "source": [
        "We can see that `first20p` contains 12,000 records, which is indeed 20\\% the total number of records in the training set. Recall that the training set contains 60,000 records. \n",
        "\n",
        "Because the slices are string-based we can use loops, like the ones shown below, to slice up the dataset and make some pretty complex splits. For example, the loops below create 10 complimentary validation and training sets (each loop returns a list with 5 data sets)."
      ]
    },
    {
      "cell_type": "code",
      "metadata": {
        "colab_type": "code",
        "id": "rnUGAufZv7GL",
        "colab": {}
      },
      "source": [
        "val_ds = tfds.load('mnist:3.*.*', split=['train[{}%:{}%]'.format(k, k+20) for k in range(0, 100, 20)])\n",
        "\n",
        "train_ds = tfds.load('mnist:3.*.*', split=['train[:{}%]+train[{}%:]'.format(k, k+20) for k in range(0, 100, 20)])"
      ],
      "execution_count": 0,
      "outputs": []
    },
    {
      "cell_type": "code",
      "metadata": {
        "id": "WCvZJPgOLm4I",
        "colab_type": "code",
        "colab": {}
      },
      "source": [
        "val_ds"
      ],
      "execution_count": 0,
      "outputs": []
    },
    {
      "cell_type": "code",
      "metadata": {
        "id": "md1pnujNLm4K",
        "colab_type": "code",
        "colab": {}
      },
      "source": [
        "train_ds"
      ],
      "execution_count": 0,
      "outputs": []
    },
    {
      "cell_type": "code",
      "metadata": {
        "id": "QjWD4r3ILm4M",
        "colab_type": "code",
        "colab": {}
      },
      "source": [
        "print(len(list(val_ds)))\n",
        "print(len(list(train_ds)))"
      ],
      "execution_count": 0,
      "outputs": []
    },
    {
      "cell_type": "markdown",
      "metadata": {
        "id": "YCDR_lZJLm4O",
        "colab_type": "text"
      },
      "source": [
        "The S3 API also allows us to compose new datasets by using pieces from different splits. For example, we can create a new dataset from the first 10\\% of the test set and the last 80\\% of the training set, as shown below."
      ]
    },
    {
      "cell_type": "code",
      "metadata": {
        "colab_type": "code",
        "id": "SX0wsD9IwPYR",
        "colab": {}
      },
      "source": [
        "composed_ds = tfds.load('mnist:3.*.*', split='test[:10%]+train[-80%:]')\n",
        "\n",
        "print(len(list(composed_ds)))"
      ],
      "execution_count": 0,
      "outputs": []
    }
  ]
}